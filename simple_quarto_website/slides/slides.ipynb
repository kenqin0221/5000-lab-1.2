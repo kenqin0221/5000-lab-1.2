{
 "cells": [
  {
   "cell_type": "raw",
   "id": "0a48c3f0",
   "metadata": {
    "vscode": {
     "languageId": "raw"
    }
   },
   "source": [
    "---\n",
    "title: \"Quarto Reveal.js Slide Deck\"\n",
    "format: revealjs\n",
    "bibliography: reference.bib   # path relative to slides folder\n",
    "---\n"
   ]
  },
  {
   "cell_type": "markdown",
   "id": "7357399a",
   "metadata": {},
   "source": [
    "## Slide 1: Introduction\n",
    "\n",
    "Welcome to this Quarto Reveal.js slide deck. Lorem ipsum dolor sit amet.\n",
    "\n",
    "> \"A professional quote to start the presentation.\"\n",
    "\n",
    "---\n",
    "\n",
    "## Slide 2: Images & Citation\n",
    "\n",
    "Here are two images included in the presentation:\n",
    "\n",
    "![Image 1](images/image_1.png)  \n",
    "![Image 2](images/image_2.png)\n",
    "\n",
    "According to Miller and Smith [@miller2020deep], deep learning accelerates scientific discovery.\n",
    "\n",
    "---\n",
    "\n",
    "## Slide 3: Python Code with Plot\n",
    "\n",
    "```{python}\n",
    "#| code-fold: true\n",
    "import matplotlib.pyplot as plt\n",
    "import numpy as np\n",
    "\n",
    "x = np.linspace(0, 10, 100)\n",
    "y = np.sin(x)\n",
    "\n",
    "plt.plot(x, y, label='sin(x)')\n",
    "plt.title(\"Example Plot in Slide\")\n",
    "plt.xlabel(\"X-axis\")\n",
    "plt.ylabel(\"Y-axis\")\n",
    "plt.legend()\n",
    "plt.show()\n",
    "```\n"
   ]
  }
 ],
 "metadata": {
  "language_info": {
   "name": "python"
  }
 },
 "nbformat": 4,
 "nbformat_minor": 5
}
